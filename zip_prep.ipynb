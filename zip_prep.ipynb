{
 "cells": [
  {
   "cell_type": "code",
   "execution_count": 1,
   "metadata": {},
   "outputs": [
    {
     "data": {
      "text/plain": [
       "'/workspace/persistent/thesis'"
      ]
     },
     "execution_count": 1,
     "metadata": {},
     "output_type": "execute_result"
    }
   ],
   "source": [
    "import os\n",
    "from zipfile import ZipFile\n",
    "from tqdm import tqdm \n",
    "\n",
    "os.getcwd()"
   ]
  },
  {
   "cell_type": "code",
   "execution_count": 3,
   "metadata": {},
   "outputs": [
    {
     "name": "stderr",
     "output_type": "stream",
     "text": [
      "100%|██████████| 68/68 [24:12<00:00, 21.37s/it]\n"
     ]
    },
    {
     "data": {
      "text/plain": [
       "[]"
      ]
     },
     "execution_count": 3,
     "metadata": {},
     "output_type": "execute_result"
    }
   ],
   "source": [
    "full_zip_path = '../../full-pvc/meteor.zip'\n",
    "with ZipFile(full_zip_path, 'w') as file:\n",
    "    pass\n",
    "\n",
    "meteor_path = '../../pvc-meteor'\n",
    "full_zip= ZipFile(full_zip_path, 'a')\n",
    "bad_files = []\n",
    "vid_names = []\n",
    "\n",
    "# iterate through zip files in \n",
    "for file in tqdm(os.listdir(meteor_path)):\n",
    "    if '.zip' not in file or 'METEOR' in file:\n",
    "        continue\n",
    "    \n",
    "    # open current file and check if it contains content\n",
    "    curr_file = ZipFile(meteor_path + '/' + file)\n",
    "    if len(curr_file.namelist()) == 0:\n",
    "        bad_files.append(file)\n",
    "        continue\n",
    "    \n",
    "    # iterate through names in file.namelist()\n",
    "    for name in curr_file.namelist():\n",
    "        curr_item = curr_file.open(name)\n",
    "        \n",
    "        # append file to initial zip_file\n",
    "        full_zip.writestr(name, curr_item.read())\n",
    "        vid_names.append(name)\n",
    "\n",
    "full_zip.close()\n",
    "bad_files"
   ]
  },
  {
   "cell_type": "code",
   "execution_count": null,
   "metadata": {},
   "outputs": [
    {
     "name": "stderr",
     "output_type": "stream",
     "text": [
      "  0%|          | 0/67 [00:00<?, ?it/s]"
     ]
    }
   ],
   "source": [
    "def unzip_meteor(meteor_path, extract_path):\n",
    "    bad_files = []\n",
    "    vid_names = []\n",
    "\n",
    "    # iterate through zip files in \n",
    "    for file in tqdm(os.listdir(meteor_path)):\n",
    "        if '.zip' not in file or 'METEOR' in file:\n",
    "            continue\n",
    "        curr_file = ZipFile(meteor_path + '/' + file)\n",
    "        for name in curr_file.namelist():\n",
    "            curr_file.extract(name, extract_path)\n",
    "\n",
    "unzip_meteor('../../pvc-meteor/downloads','../../pvc-meteor/Raw_Videos/')"
   ]
  },
  {
   "cell_type": "markdown",
   "metadata": {},
   "source": [
    "unzip anotations and store in way desired for further processing of the dataset."
   ]
  },
  {
   "cell_type": "code",
   "execution_count": 2,
   "metadata": {},
   "outputs": [
    {
     "name": "stderr",
     "output_type": "stream",
     "text": [
      "100%|██████████| 1251/1251 [3:41:34<00:00, 10.63s/it]  \n"
     ]
    }
   ],
   "source": [
    "zip_annotations = '../../pvc-meteor/downloads/Frame XML Annotations'\n",
    "target_dir = '../../pvc-meteor/dataset'\n",
    "def unzip_annotations(zip_annotations, target_dir):\n",
    "    for file_name in tqdm(os.listdir(zip_annotations)):\n",
    "        if '.zip' not in file_name:\n",
    "            continue\n",
    "        zip_file = ZipFile(zip_annotations + '/' + file_name)\n",
    "        new_dir_name = file_name.split('.')[0]\n",
    "        if new_dir_name + '/' in zip_file.namelist():\n",
    "            zip_file.extractall(target_dir)\n",
    "        else:\n",
    "            os.makedirs(target_dir + '/' + new_dir_name)\n",
    "            zip_file.extractall(target_dir + '/' + new_dir_name)\n",
    "            \n",
    "        \n",
    "unzip_annotations(zip_annotations, target_dir)"
   ]
  },
  {
   "cell_type": "code",
   "execution_count": 4,
   "metadata": {},
   "outputs": [
    {
     "name": "stderr",
     "output_type": "stream",
     "text": [
      "100%|██████████| 1250/1250 [19:51<00:00,  1.05it/s]\n"
     ]
    },
    {
     "data": {
      "text/plain": [
       "0"
      ]
     },
     "execution_count": 4,
     "metadata": {},
     "output_type": "execute_result"
    }
   ],
   "source": [
    "counter = 0\n",
    "for directory in tqdm(os.listdir('../../pvc-meteor/dataset/')):\n",
    "    for name in os.listdir('../../pvc-meteor/dataset/' + directory + '/'):\n",
    "        if '.JPG' in name:\n",
    "            counter += 1\n",
    "            break\n",
    "        \n",
    "counter"
   ]
  },
  {
   "cell_type": "code",
   "execution_count": null,
   "metadata": {},
   "outputs": [],
   "source": []
  }
 ],
 "metadata": {
  "interpreter": {
   "hash": "d4d1e4263499bec80672ea0156c357c1ee493ec2b1c70f0acce89fc37c4a6abe"
  },
  "kernelspec": {
   "display_name": "Python [conda env:root] *",
   "language": "python",
   "name": "python3"
  },
  "language_info": {
   "codemirror_mode": {
    "name": "ipython",
    "version": 3
   },
   "file_extension": ".py",
   "mimetype": "text/x-python",
   "name": "python",
   "nbconvert_exporter": "python",
   "pygments_lexer": "ipython3",
   "version": ""
  }
 },
 "nbformat": 4,
 "nbformat_minor": 4
}
