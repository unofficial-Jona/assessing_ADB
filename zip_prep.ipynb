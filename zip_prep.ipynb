{
 "cells": [
  {
   "cell_type": "code",
   "execution_count": 1,
   "metadata": {},
   "outputs": [
    {
     "data": {
      "text/plain": [
       "'/workspace/persistent/thesis'"
      ]
     },
     "execution_count": 1,
     "metadata": {},
     "output_type": "execute_result"
    }
   ],
   "source": [
    "import os\n",
    "from zipfile import ZipFile\n",
    "from tqdm import tqdm \n",
    "\n",
    "os.getcwd()"
   ]
  },
  {
   "cell_type": "code",
   "execution_count": 10,
   "metadata": {},
   "outputs": [
    {
     "name": "stderr",
     "output_type": "stream",
     "text": [
      " 34%|███▍      | 23/68 [06:53<16:10, 21.56s/it]"
     ]
    }
   ],
   "source": [
    "full_zip_path = '../../full-pvc/meteor.zip'\n",
    "with ZipFile(full_zip_path, 'w') as file:\n",
    "    pass\n",
    "\n",
    "meteor_path = '../../pvc-meteor'\n",
    "full_zip= ZipFile(full_zip_path, 'a')\n",
    "bad_files = []\n",
    "vid_names = []\n",
    "\n",
    "# iterate through zip files in \n",
    "for file in tqdm(os.listdir(meteor_path)):\n",
    "    if '.zip' not in file or 'METEOR' in file:\n",
    "        continue\n",
    "    \n",
    "    # open current file and check if it contains content\n",
    "    curr_file = ZipFile(meteor_path + '/' + file)\n",
    "    if len(curr_file.namelist()) == 0:\n",
    "        bad_files.append(file)\n",
    "        continue\n",
    "    \n",
    "    # iterate through names in file.namelist()\n",
    "    for name in curr_file.namelist():\n",
    "        curr_item = curr_file.open(name)\n",
    "        \n",
    "        # append file to initial zip_file\n",
    "        full_zip.writestr(name, curr_item.read())\n",
    "        vid_names.append(name)\n",
    "\n",
    "bad_files"
   ]
  },
  {
   "cell_type": "markdown",
   "metadata": {},
   "source": [
    "check if all videos we've annotations for got processed (this is presumably not the case as len(bad_files) > 0)"
   ]
  },
  {
   "cell_type": "code",
   "execution_count": null,
   "metadata": {},
   "outputs": [],
   "source": [
    "not_processed_vids = []\n",
    "for name in os.listdir('../../pvc-meteor/Video XML Annotations'):\n",
    "    name, _ = name.split('.')\n",
    "    if name in vid_names:\n",
    "        continue\n",
    "    else:\n",
    "        not_processed_vids.append(name)"
   ]
  }
 ],
 "metadata": {
  "interpreter": {
   "hash": "d4d1e4263499bec80672ea0156c357c1ee493ec2b1c70f0acce89fc37c4a6abe"
  },
  "kernelspec": {
   "display_name": "Python 3.9.10 ('base')",
   "language": "python",
   "name": "python3"
  },
  "language_info": {
   "codemirror_mode": {
    "name": "ipython",
    "version": 3
   },
   "file_extension": ".py",
   "mimetype": "text/x-python",
   "name": "python",
   "nbconvert_exporter": "python",
   "pygments_lexer": "ipython3",
   "version": "3.9.10"
  },
  "orig_nbformat": 4
 },
 "nbformat": 4,
 "nbformat_minor": 2
}
