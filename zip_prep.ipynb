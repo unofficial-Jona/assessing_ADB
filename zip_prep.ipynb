{
 "cells": [
  {
   "cell_type": "code",
   "execution_count": 13,
   "metadata": {},
   "outputs": [
    {
     "data": {
      "text/plain": [
       "'/workspace/persistent'"
      ]
     },
     "execution_count": 13,
     "metadata": {},
     "output_type": "execute_result"
    }
   ],
   "source": [
    "import os\n",
    "from zipfile import ZipFile\n",
    "from tqdm import tqdm \n",
    "\n",
    "os.getcwd()"
   ]
  },
  {
   "cell_type": "code",
   "execution_count": 14,
   "metadata": {},
   "outputs": [],
   "source": [
    "full_zip_path = '../full-pvc/meteor.zip'\n",
    "with ZipFile(full_zip_path, 'w') as file:\n",
    "    pass"
   ]
  },
  {
   "cell_type": "code",
   "execution_count": 15,
   "metadata": {},
   "outputs": [
    {
     "name": "stderr",
     "output_type": "stream",
     "text": [
      "  0%|          | 0/68 [00:00<?, ?it/s]\n"
     ]
    },
    {
     "ename": "FileNotFoundError",
     "evalue": "[Errno 2] No such file or directory: './pvc-meteorRaw Videos-selected (21).zip'",
     "output_type": "error",
     "traceback": [
      "\u001b[0;31m---------------------------------------------------------------------------\u001b[0m",
      "\u001b[0;31mFileNotFoundError\u001b[0m                         Traceback (most recent call last)",
      "\u001b[1;32m/workspace/persistent/zip_prep.ipynb Cell 3'\u001b[0m in \u001b[0;36m<cell line: 5>\u001b[0;34m()\u001b[0m\n\u001b[1;32m      <a href='vscode-notebook-cell://jupyterlab-gpu-aggressive-driving-behaviour.apps.dsri2.unimaas.nl/workspace/persistent/zip_prep.ipynb#ch0000002vscode-remote?line=6'>7</a>\u001b[0m     \u001b[39mcontinue\u001b[39;00m\n\u001b[1;32m      <a href='vscode-notebook-cell://jupyterlab-gpu-aggressive-driving-behaviour.apps.dsri2.unimaas.nl/workspace/persistent/zip_prep.ipynb#ch0000002vscode-remote?line=8'>9</a>\u001b[0m \u001b[39m# open current file and check if it contains content\u001b[39;00m\n\u001b[0;32m---> <a href='vscode-notebook-cell://jupyterlab-gpu-aggressive-driving-behaviour.apps.dsri2.unimaas.nl/workspace/persistent/zip_prep.ipynb#ch0000002vscode-remote?line=9'>10</a>\u001b[0m curr_file \u001b[39m=\u001b[39m ZipFile(\u001b[39m'\u001b[39;49m\u001b[39m./pvc-meteor\u001b[39;49m\u001b[39m'\u001b[39;49m \u001b[39m+\u001b[39;49m file, \u001b[39m'\u001b[39;49m\u001b[39mr\u001b[39;49m\u001b[39m'\u001b[39;49m)\n\u001b[1;32m     <a href='vscode-notebook-cell://jupyterlab-gpu-aggressive-driving-behaviour.apps.dsri2.unimaas.nl/workspace/persistent/zip_prep.ipynb#ch0000002vscode-remote?line=10'>11</a>\u001b[0m \u001b[39mif\u001b[39;00m \u001b[39mlen\u001b[39m(curr_file\u001b[39m.\u001b[39mnamelist()) \u001b[39m==\u001b[39m \u001b[39m0\u001b[39m:\n\u001b[1;32m     <a href='vscode-notebook-cell://jupyterlab-gpu-aggressive-driving-behaviour.apps.dsri2.unimaas.nl/workspace/persistent/zip_prep.ipynb#ch0000002vscode-remote?line=11'>12</a>\u001b[0m     bad_files\u001b[39m.\u001b[39mappend(file)\n",
      "File \u001b[0;32m/opt/conda/lib/python3.9/zipfile.py:1239\u001b[0m, in \u001b[0;36mZipFile.__init__\u001b[0;34m(self, file, mode, compression, allowZip64, compresslevel, strict_timestamps)\u001b[0m\n\u001b[1;32m   <a href='file:///opt/conda/lib/python3.9/zipfile.py?line=1236'>1237</a>\u001b[0m \u001b[39mwhile\u001b[39;00m \u001b[39mTrue\u001b[39;00m:\n\u001b[1;32m   <a href='file:///opt/conda/lib/python3.9/zipfile.py?line=1237'>1238</a>\u001b[0m     \u001b[39mtry\u001b[39;00m:\n\u001b[0;32m-> <a href='file:///opt/conda/lib/python3.9/zipfile.py?line=1238'>1239</a>\u001b[0m         \u001b[39mself\u001b[39m\u001b[39m.\u001b[39mfp \u001b[39m=\u001b[39m io\u001b[39m.\u001b[39;49mopen(file, filemode)\n\u001b[1;32m   <a href='file:///opt/conda/lib/python3.9/zipfile.py?line=1239'>1240</a>\u001b[0m     \u001b[39mexcept\u001b[39;00m \u001b[39mOSError\u001b[39;00m:\n\u001b[1;32m   <a href='file:///opt/conda/lib/python3.9/zipfile.py?line=1240'>1241</a>\u001b[0m         \u001b[39mif\u001b[39;00m filemode \u001b[39min\u001b[39;00m modeDict:\n",
      "\u001b[0;31mFileNotFoundError\u001b[0m: [Errno 2] No such file or directory: './pvc-meteorRaw Videos-selected (21).zip'"
     ]
    }
   ],
   "source": [
    "full_zip= ZipFile(full_zip_path, 'a')\n",
    "bad_files = []\n",
    "\n",
    "# iterate through zip files in \n",
    "for file in tqdm(os.listdir('../pvc-meteor')):\n",
    "    if '.zip' not in file or 'METEOR' in file:\n",
    "        continue\n",
    "    \n",
    "    # open current file and check if it contains content\n",
    "    curr_file = ZipFile('../pvc-meteor' + file, 'r')\n",
    "    if len(curr_file.namelist()) == 0:\n",
    "        bad_files.append(file)\n",
    "        continue\n",
    "    \n",
    "    # iterate through names in file.namelist()\n",
    "    for name in curr_file.namelist():\n",
    "        curr_file = curr_file.open(name)\n",
    "        \n",
    "        # append file to name\n",
    "        full_zip.writestr(name, curr_file.read())\n"
   ]
  },
  {
   "cell_type": "code",
   "execution_count": null,
   "metadata": {},
   "outputs": [],
   "source": []
  }
 ],
 "metadata": {
  "interpreter": {
   "hash": "d4d1e4263499bec80672ea0156c357c1ee493ec2b1c70f0acce89fc37c4a6abe"
  },
  "kernelspec": {
   "display_name": "Python 3.9.10 ('base')",
   "language": "python",
   "name": "python3"
  },
  "language_info": {
   "codemirror_mode": {
    "name": "ipython",
    "version": 3
   },
   "file_extension": ".py",
   "mimetype": "text/x-python",
   "name": "python",
   "nbconvert_exporter": "python",
   "pygments_lexer": "ipython3",
   "version": "3.9.10"
  },
  "orig_nbformat": 4
 },
 "nbformat": 4,
 "nbformat_minor": 2
}
