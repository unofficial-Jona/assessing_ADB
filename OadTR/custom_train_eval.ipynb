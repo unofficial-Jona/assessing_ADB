{
 "cells": [
  {
   "cell_type": "markdown",
   "id": "7399c066-76da-4396-8b47-be74530191a5",
   "metadata": {
    "tags": []
   },
   "source": [
    "# Experimenting with OadTR\n",
    "\n",
    "this notebook is dedicated to conduct training and evaluation of the OadTR model using the METEOR dataset."
   ]
  },
  {
   "cell_type": "markdown",
   "id": "ec3d073e-9afb-4517-9419-ab54ddaf0020",
   "metadata": {
    "tags": []
   },
   "source": [
    "## imports and device specification"
   ]
  },
  {
   "cell_type": "code",
   "execution_count": 1,
   "id": "98fd1f42-4cbf-45ee-8773-041e81da7229",
   "metadata": {},
   "outputs": [
    {
     "name": "stdout",
     "output_type": "stream",
     "text": [
      "selected device is cuda\n"
     ]
    }
   ],
   "source": [
    "import json\n",
    "import time\n",
    "import numpy as np\n",
    "import util as utl\n",
    "import os\n",
    "import utils\n",
    "import datetime\n",
    "import argparse\n",
    "import random\n",
    "\n",
    "import transformer_models\n",
    "from custom_dataset import METEORDataLayer\n",
    "from train import train_one_epoch, evaluate\n",
    "from test import test_one_epoch\n",
    "import torch.nn as nn\n",
    "import torch\n",
    "\n",
    "\n",
    "from torchinfo import summary \n",
    "\n",
    "device = 'cuda' if torch.cuda.is_available() else 'cpu'\n",
    "print(f'selected device is {device}')"
   ]
  },
  {
   "cell_type": "code",
   "execution_count": null,
   "id": "888f7748-11d9-4f44-9b0f-95126158791a",
   "metadata": {},
   "outputs": [],
   "source": []
  }
 ],
 "metadata": {
  "kernelspec": {
   "display_name": "Python [conda env:thesis]",
   "language": "python",
   "name": "conda-env-thesis-py"
  },
  "language_info": {
   "codemirror_mode": {
    "name": "ipython",
    "version": 3
   },
   "file_extension": ".py",
   "mimetype": "text/x-python",
   "name": "python",
   "nbconvert_exporter": "python",
   "pygments_lexer": "ipython3",
   "version": "3.9.15"
  },
  "vscode": {
   "interpreter": {
    "hash": "d4d1e4263499bec80672ea0156c357c1ee493ec2b1c70f0acce89fc37c4a6abe"
   }
  }
 },
 "nbformat": 4,
 "nbformat_minor": 5
}
