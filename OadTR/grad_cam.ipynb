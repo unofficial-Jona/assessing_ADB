{
 "cells": [
  {
   "cell_type": "code",
   "execution_count": null,
   "id": "a08a3db4-057d-41ee-8d31-c64f6f0e74c8",
   "metadata": {},
   "outputs": [],
   "source": [
    "import torch\n",
    "import torch.nn.functional as F\n",
    "from custom_dataset import METEORDataLayer\n",
    "import transformer_models\n",
    "from custom_utils import generate_dict, ModelConfig\n",
    "\n",
    "EXPERIMENT_PATH = 'experiments/att_back/...'"
   ]
  },
  {
   "cell_type": "code",
   "execution_count": null,
   "id": "7076f072-ef56-4bac-a293-5f22531a93af",
   "metadata": {},
   "outputs": [],
   "source": [
    "config_dict = generate_dict(os.path.join(EXPERIMENT_PATH, 'log_dist.txt'))\n",
    "args = ModelConfig(**config_dict)\n",
    "\n",
    "model = transformer_models.VisionTransformer_v3(args=args, img_dim=args.enc_layers,\n",
    "                                             patch_dim=args.patch_dim,\n",
    "                                             out_dim=args.numclass,\n",
    "                                             embedding_dim=args.embedding_dim,\n",
    "                                             num_heads=args.num_heads,\n",
    "                                             num_layers=args.num_layers,\n",
    "                                             hidden_dim=args.hidden_dim,\n",
    "                                             dropout_rate=args.dropout_rate,\n",
    "                                             attn_dropout_rate=args.attn_dropout_rate,\n",
    "                                             num_channels=args.dim_feature,\n",
    "                                             positional_encoding_type=args.positional_encoding_type,\n",
    "                                             with_motion=args.use_flow\n",
    "                                                )\n"
   ]
  },
  {
   "cell_type": "code",
   "execution_count": null,
   "id": "5c54eb6f-a01e-4135-b3df-f97078af2044",
   "metadata": {},
   "outputs": [],
   "source": [
    "def grad_cam_multilabel(model, rgb_extractor, flow_extractor, input_rgb, input_flow, target_classes=4):\n",
    "    # Set model to evaluation mode and enable gradient calculation\n",
    "    model.eval()\n",
    "    model.zero_grad()\n",
    "    input_rgb.requires_grad_()\n",
    "    input_flow.requires_grad_()\n",
    "\n",
    "    # Perform forward pass and get the last self-attention layer output\n",
    "    logits, _ = model(input_rgb, input_flow)\n",
    "    x_last_attention = model.x_last_attention\n",
    "\n",
    "    # Create an empty heatmap\n",
    "    combined_heatmap = torch.zeros_like(x_last_attention[:, -1, :, :])\n",
    "    heatmaps = []\n",
    "    for target_class in target_classes:\n",
    "        # Compute gradients for the target class\n",
    "        logits[:, target_class].backward(retain_graph=True)\n",
    "\n",
    "        # Get gradients of the last self-attention layer output\n",
    "        gradients = input_rgb.grad\n",
    "\n",
    "        # Calculate Grad-CAM weights\n",
    "        weights = torch.mean(gradients, dim=(2, 3))\n",
    "\n",
    "        # Create a heatmap using the Grad-CAM weights and the last self-attention layer output\n",
    "        heatmap = torch.zeros_like(x_last_attention[:, -1, :, :])\n",
    "        for i, weight in enumerate(weights):\n",
    "            heatmap += weight * x_last_attention[:, -1, :, :]\n",
    "\n",
    "        # Normalize the heatmap and add it to the combined heatmap\n",
    "        heatmap = F.relu(heatmap)\n",
    "        heatmap /= torch.max(heatmap)\n",
    "        combined_heatmap += heatmap\n",
    "\n",
    "    # Normalize the combined heatmap\n",
    "    combined_heatmap /= torch.max(combined_heatmap)\n",
    "\n",
    "    return combined_heatmap.detach().cpu().numpy()\n"
   ]
  }
 ],
 "metadata": {
  "kernelspec": {
   "display_name": "Python [conda env:thesis]",
   "language": "python",
   "name": "conda-env-thesis-py"
  },
  "language_info": {
   "codemirror_mode": {
    "name": "ipython",
    "version": 3
   },
   "file_extension": ".py",
   "mimetype": "text/x-python",
   "name": "python",
   "nbconvert_exporter": "python",
   "pygments_lexer": "ipython3",
   "version": "3.9.16"
  }
 },
 "nbformat": 4,
 "nbformat_minor": 5
}
