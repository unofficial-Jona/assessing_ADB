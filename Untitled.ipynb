{
 "cells": [
  {
   "cell_type": "markdown",
   "id": "9605bca6-97a0-4dae-a59b-7af41489dd38",
   "metadata": {},
   "source": [
    "# importing some information"
   ]
  },
  {
   "cell_type": "code",
   "execution_count": 1,
   "id": "54ebc80a-3b08-4155-8e95-f914b13b007e",
   "metadata": {
    "tags": []
   },
   "outputs": [],
   "source": [
    "import numpy as np\n",
    "import torch.nn as nn"
   ]
  },
  {
   "cell_type": "code",
   "execution_count": 2,
   "id": "8894791d-04ce-443e-b7e2-5213277e9b7a",
   "metadata": {
    "tags": []
   },
   "outputs": [
    {
     "name": "stderr",
     "output_type": "stream",
     "text": [
      "/Users/jonathanaechtner/Documents/GitHub.nosync/thesis/python_scripts/Data_Load.py:2: UserWarning: add location of dataset and annotations_file\n",
      "  warnings.warn('add location of dataset and annotations_file')\n"
     ]
    }
   ],
   "source": [
    "from python_scripts.DataLoad import split_data\n",
    "from python_scripts.PositionalEncoding import FixedPositionalEncoding\n"
   ]
  },
  {
   "cell_type": "markdown",
   "id": "c90b99f5-ab1e-48fb-87b0-3c376dab56a9",
   "metadata": {},
   "source": [
    "this changes are just there to verify that github works as expected."
   ]
  },
  {
   "cell_type": "code",
   "execution_count": null,
   "id": "729a9e30",
   "metadata": {},
   "outputs": [],
   "source": []
  }
 ],
 "metadata": {
  "kernelspec": {
   "display_name": "Python 3.8.11 ('base')",
   "language": "python",
   "name": "python3"
  },
  "language_info": {
   "codemirror_mode": {
    "name": "ipython",
    "version": 3
   },
   "file_extension": ".py",
   "mimetype": "text/x-python",
   "name": "python",
   "nbconvert_exporter": "python",
   "pygments_lexer": "ipython3",
   "version": "3.8.11"
  },
  "vscode": {
   "interpreter": {
    "hash": "ddda031869fb8ce91032b63195a611ad81bb421fc11bd1c32a8661751b914dac"
   }
  }
 },
 "nbformat": 4,
 "nbformat_minor": 5
}
