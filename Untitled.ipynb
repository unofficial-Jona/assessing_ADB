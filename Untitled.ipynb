{
 "cells": [
  {
   "cell_type": "code",
   "execution_count": 1,
   "id": "54ebc80a-3b08-4155-8e95-f914b13b007e",
   "metadata": {
    "tags": []
   },
   "outputs": [],
   "source": [
    "import numpy as np\n",
    "import torch.nn as nn"
   ]
  },
  {
   "cell_type": "code",
   "execution_count": 2,
   "id": "8894791d-04ce-443e-b7e2-5213277e9b7a",
   "metadata": {
    "tags": []
   },
   "outputs": [
    {
     "name": "stderr",
     "output_type": "stream",
     "text": [
      "/workspace/python_scripts/Data_Load.py:2: UserWarning: add location of dataset and annotations_file\n",
      "  warnings.warn('add location of dataset and annotations_file')\n"
     ]
    }
   ],
   "source": [
    "from python_scripts.Data_Load import split_data\n",
    "\n",
    "# train_set, test_set = split_data()"
   ]
  },
  {
   "cell_type": "code",
   "execution_count": null,
   "id": "e863098b-a5f3-4bad-979c-6efa6c50d2c5",
   "metadata": {},
   "outputs": [],
   "source": []
  },
  {
   "cell_type": "code",
   "execution_count": null,
   "id": "b9226af9-7b2b-4bc1-9fbb-89a8fc6ab600",
   "metadata": {},
   "outputs": [],
   "source": []
  }
 ],
 "metadata": {
  "kernelspec": {
   "display_name": "Python 3 (ipykernel)",
   "language": "python",
   "name": "python3"
  },
  "language_info": {
   "codemirror_mode": {
    "name": "ipython",
    "version": 3
   },
   "file_extension": ".py",
   "mimetype": "text/x-python",
   "name": "python",
   "nbconvert_exporter": "python",
   "pygments_lexer": "ipython3",
   "version": "3.9.10"
  }
 },
 "nbformat": 4,
 "nbformat_minor": 5
}
