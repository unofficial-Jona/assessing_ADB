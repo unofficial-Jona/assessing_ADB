{
 "cells": [
  {
   "cell_type": "markdown",
   "id": "7399c066-76da-4396-8b47-be74530191a5",
   "metadata": {
    "tags": []
   },
   "source": [
    "# Experimenting with OadTR\n",
    "\n",
    "this notebook is dedicated to conduct training and evaluation of the OadTR model using the METEOR dataset."
   ]
  },
  {
   "cell_type": "markdown",
   "id": "ec3d073e-9afb-4517-9419-ab54ddaf0020",
   "metadata": {
    "tags": []
   },
   "source": [
    "## imports and device specification"
   ]
  },
  {
   "cell_type": "code",
   "execution_count": 1,
   "id": "98fd1f42-4cbf-45ee-8773-041e81da7229",
   "metadata": {},
   "outputs": [
    {
     "ename": "ModuleNotFoundError",
     "evalue": "No module named 'util'",
     "output_type": "error",
     "traceback": [
      "\u001b[0;31m---------------------------------------------------------------------------\u001b[0m",
      "\u001b[0;31mModuleNotFoundError\u001b[0m                       Traceback (most recent call last)",
      "Cell \u001b[0;32mIn[1], line 4\u001b[0m\n\u001b[1;32m      2\u001b[0m \u001b[38;5;28;01mimport\u001b[39;00m \u001b[38;5;21;01mtime\u001b[39;00m\n\u001b[1;32m      3\u001b[0m \u001b[38;5;28;01mimport\u001b[39;00m \u001b[38;5;21;01mnumpy\u001b[39;00m \u001b[38;5;28;01mas\u001b[39;00m \u001b[38;5;21;01mnp\u001b[39;00m\n\u001b[0;32m----> 4\u001b[0m \u001b[38;5;28;01mimport\u001b[39;00m \u001b[38;5;21;01mutil\u001b[39;00m \u001b[38;5;28;01mas\u001b[39;00m \u001b[38;5;21;01mutl\u001b[39;00m\n\u001b[1;32m      5\u001b[0m \u001b[38;5;28;01mimport\u001b[39;00m \u001b[38;5;21;01mos\u001b[39;00m\n\u001b[1;32m      6\u001b[0m \u001b[38;5;28;01mimport\u001b[39;00m \u001b[38;5;21;01mutils\u001b[39;00m\n",
      "\u001b[0;31mModuleNotFoundError\u001b[0m: No module named 'util'"
     ]
    }
   ],
   "source": [
    "import json\n",
    "import time\n",
    "import numpy as np\n",
    "import util as utl\n",
    "import os\n",
    "import utils\n",
    "\n",
    "import transformer_models\n",
    "from custom_dataset import METEORDataLayer\n",
    "from train import train_one_epoch, evaluate\n",
    "from test import test_one_epoch\n",
    "import torch.nn as nn\n",
    "import torch\n",
    "\n",
    "device = 'cuda' if torch.cuda.is_available() else 'cpu'\n",
    "print(f'selected device is {device}')"
   ]
  },
  {
   "cell_type": "markdown",
   "id": "223856b3-dd7c-4ec0-ae13-a69dae95a340",
   "metadata": {
    "tags": []
   },
   "source": [
    "## training"
   ]
  },
  {
   "cell_type": "markdown",
   "id": "e14ea29b-fe52-4f0a-bd8b-b2697b305550",
   "metadata": {},
   "source": [
    "### model set up"
   ]
  },
  {
   "cell_type": "code",
   "execution_count": null,
   "id": "5d48061d-7c0c-4920-b0e8-3816dab09426",
   "metadata": {},
   "outputs": [],
   "source": [
    "args = {\n",
    "    'num_layers': 3,\n",
    "    'decoder_layers': 5,\n",
    "    'enc_layers': 64,\n",
    "    'output_dir': 'models/en_3_decoder_5_lr_drop_1'\n",
    "}\n",
    "\n",
    "with open('pvc-meteor/features/data_info_new.json', 'r') as f:\n",
    "    data_info = json.load(f)['THUMOS']\n",
    "args.train_session_set = data_info['train_session_set']\n",
    "args.test_session_set = data_info['test_session_set']\n",
    "args.class_index = data_info['class_index']\n",
    "args.numclass = len(args.class_index)\n",
    "if args.output_dir:\n",
    "    Path(args.output_dir).mkdir(parents=True, exist_ok=True)\n",
    "\n",
    "\n",
    "model = transformer_models.VisionTransformer_v3(\n",
    "    args=args, \n",
    "    img_dim=1024, # may need to change to 2 * 1024\n",
    "    patch_dim=32, # 1027/64 = 16 patches will be generated\n",
    "    out_dim=7, # nr of classes\n",
    "    embedding_dim= 1024 # \n",
    "    num_heads=4 # optimal according to OadTR paper\n",
    "    num_layers=3, # optimal according to OadTR paper\n",
    "    hidden_dim=4096,\n",
    "    dropout_rate=args.dropout_rate,\n",
    "    attn_dropout_rate=args.attn_dropout_rate,\n",
    "    num_channels= 2,\n",
    "    positional_encoding_type=args.positional_encoding_type\n",
    "    )\n",
    "\n",
    "model.to(device)"
   ]
  },
  {
   "cell_type": "markdown",
   "id": "a510aba7-ec1d-4ca2-a1f7-f3c3593c1d94",
   "metadata": {
    "tags": []
   },
   "source": [
    "## evaluation"
   ]
  },
  {
   "cell_type": "markdown",
   "id": "6463c52a-eac9-4cc7-9cc4-22db6d3c4614",
   "metadata": {
    "tags": []
   },
   "source": [
    "### load model"
   ]
  },
  {
   "cell_type": "code",
   "execution_count": null,
   "id": "8a03190e-40e3-401f-82d5-d78c47f4c8e8",
   "metadata": {},
   "outputs": [],
   "source": []
  }
 ],
 "metadata": {
  "kernelspec": {
   "display_name": "Python [conda env:thesis]",
   "language": "python",
   "name": "conda-env-thesis-py"
  },
  "language_info": {
   "codemirror_mode": {
    "name": "ipython",
    "version": 3
   },
   "file_extension": ".py",
   "mimetype": "text/x-python",
   "name": "python",
   "nbconvert_exporter": "python",
   "pygments_lexer": "ipython3",
   "version": "3.9.15"
  }
 },
 "nbformat": 4,
 "nbformat_minor": 5
}
