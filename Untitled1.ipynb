{
 "cells": [
  {
   "cell_type": "code",
   "execution_count": 1,
   "id": "83c96579-6114-460a-a350-0d2ce4e60d67",
   "metadata": {
    "tags": []
   },
   "outputs": [
    {
     "name": "stderr",
     "output_type": "stream",
     "text": [
      "/root/miniconda3/envs/thesis/lib/python3.9/site-packages/torchvision/io/image.py:13: UserWarning: Failed to load image Python extension: /root/miniconda3/envs/thesis/lib/python3.9/site-packages/torchvision/image.so: undefined symbol: _ZN2at4_ops10select_int4callERKNS_6TensorEll\n",
      "  warn(f\"Failed to load image Python extension: {e}\")\n"
     ]
    }
   ],
   "source": [
    "import pandas as pd\n",
    "import numpy as np\n",
    "import matplotlib.pyplot as plt\n",
    "import pickle\n",
    "from tqdm import tqdm\n",
    "import torch\n",
    "import torch.nn as nn\n",
    "import json\n",
    "import os\n",
    "\n",
    "\n",
    "from python_scripts.feature_extractor import FeatureExtractor"
   ]
  },
  {
   "cell_type": "code",
   "execution_count": 2,
   "id": "7b4554b9-50d7-4861-b66f-b49f9f9ac951",
   "metadata": {
    "tags": []
   },
   "outputs": [],
   "source": [
    "json_file = json.load(open('../../pvc-meteor/features/METEOR_info.json', 'r'))['METEOR']\n",
    "att_30 = pickle.load(open('/workspace/pvc-meteor/features/features_att_30_new.pkl', 'rb'))\n",
    "att_15 = pickle.load(open('/workspace/pvc-meteor/features/features_att_15_new.pkl', 'rb'))\n",
    "tsn = pickle.load(open('/workspace/pvc-meteor/features/features_TSN.pkl', 'rb'))"
   ]
  },
  {
   "cell_type": "code",
   "execution_count": 5,
   "id": "913d5386-e87d-484d-a3e4-816ec3a35d0c",
   "metadata": {
    "tags": []
   },
   "outputs": [
    {
     "data": {
      "text/plain": [
       "'REC_2020_10_11_05_08_02_F.MP4'"
      ]
     },
     "execution_count": 5,
     "metadata": {},
     "output_type": "execute_result"
    }
   ],
   "source": [
    "vid_name = list(json_file['train_session_set'])[0]\n",
    "vid_name"
   ]
  },
  {
   "cell_type": "code",
   "execution_count": 24,
   "id": "d2196745-b183-4a44-bc3b-ffa1330c7016",
   "metadata": {
    "tags": []
   },
   "outputs": [
    {
     "name": "stdout",
     "output_type": "stream",
     "text": [
      "(1799, 7)\n",
      "float64\n"
     ]
    }
   ],
   "source": [
    "print(att_30['annotations'][vid_name]['anno'].shape)\n",
    "print(att_30['annotations'][vid_name]['anno'].dtype)\n",
    "print(att_30['features'][vid_name]['rgb'].shape)\n",
    "print(att_30['features'][vid_name]['rgb'].dtype)"
   ]
  },
  {
   "cell_type": "code",
   "execution_count": 28,
   "id": "cbd866d2-9399-4d63-bfbf-bb11b5630cba",
   "metadata": {
    "tags": []
   },
   "outputs": [
    {
     "name": "stdout",
     "output_type": "stream",
     "text": [
      "(899, 7)\n",
      "float64\n",
      "(1799, 1024)\n",
      "float32\n"
     ]
    }
   ],
   "source": [
    "print(att_15['annotations'][vid_name]['anno'].shape)\n",
    "print(att_15['annotations'][vid_name]['anno'].dtype)\n",
    "print(att_15['features'][vid_name]['rgb'].shape)\n",
    "print(att_15['features'][vid_name]['rgb'].dtype)"
   ]
  },
  {
   "cell_type": "code",
   "execution_count": 29,
   "id": "ea3ddb67-0020-4e9a-9f44-958470f59296",
   "metadata": {
    "tags": []
   },
   "outputs": [
    {
     "name": "stdout",
     "output_type": "stream",
     "text": [
      "(300, 7)\n",
      "int64\n",
      "(300, 2048)\n",
      "float16\n"
     ]
    }
   ],
   "source": [
    "print(tsn['annotations'][vid_name]['anno'].shape)\n",
    "print(tsn['annotations'][vid_name]['anno'].dtype)\n",
    "print(tsn['features'][vid_name]['rgb'].shape)\n",
    "print(tsn['features'][vid_name]['rgb'].dtype)"
   ]
  },
  {
   "cell_type": "code",
   "execution_count": null,
   "id": "4436c07b-8477-4fce-9f58-6720919bbc4e",
   "metadata": {},
   "outputs": [],
   "source": []
  }
 ],
 "metadata": {
  "kernelspec": {
   "display_name": "thesis",
   "language": "python",
   "name": "thesis"
  },
  "language_info": {
   "codemirror_mode": {
    "name": "ipython",
    "version": 3
   },
   "file_extension": ".py",
   "mimetype": "text/x-python",
   "name": "python",
   "nbconvert_exporter": "python",
   "pygments_lexer": "ipython3",
   "version": "3.9.16"
  }
 },
 "nbformat": 4,
 "nbformat_minor": 5
}
