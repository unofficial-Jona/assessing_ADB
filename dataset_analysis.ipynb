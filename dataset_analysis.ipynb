{
 "cells": [
  {
   "cell_type": "code",
   "execution_count": 1,
   "id": "1ed08244-b283-40cf-a772-36f3f0466df8",
   "metadata": {},
   "outputs": [],
   "source": [
    "import pandas as pd\n",
    "import numpy as np\n",
    "import matplotlib.pyplot as plt\n",
    "import pickle\n",
    "from tqdm import tqdm\n",
    "\n",
    "from feature_extractor import FeatureExtractor"
   ]
  },
  {
   "cell_type": "code",
   "execution_count": 2,
   "id": "dbcfdfa8-0c38-4290-83b6-fe6c0640d712",
   "metadata": {},
   "outputs": [],
   "source": [
    "# load old feature_extraction file:\n",
    "anno_features = pickle.load(open('../../pvc-meteor/features/extracted_features_06-01-2023-18-39.pkl', 'rb'))"
   ]
  },
  {
   "cell_type": "code",
   "execution_count": 3,
   "id": "ad5d124c",
   "metadata": {},
   "outputs": [
    {
     "name": "stderr",
     "output_type": "stream",
     "text": [
      "100%|██████████| 1213/1213 [42:05<00:00,  2.08s/it] \n"
     ]
    }
   ],
   "source": [
    "extractor = FeatureExtractor(15)\n",
    "out_dict = dict()\n",
    "\n",
    "for name in tqdm(anno_features['annotations'].keys()):\n",
    "    anno_dict = extractor.annotation_processor(name)\n",
    "    out_dict.update({name: anno_dict})\n",
    "\n",
    "with open('../../pvc-meteor/features/annotations.pickle', 'wb') as file:\n",
    "    pickle.dump(out_dict, file)"
   ]
  },
  {
   "cell_type": "markdown",
   "id": "6f39b85f",
   "metadata": {},
   "source": [
    "## get label distribution"
   ]
  },
  {
   "cell_type": "code",
   "execution_count": 9,
   "id": "19d65895",
   "metadata": {},
   "outputs": [
    {
     "data": {
      "text/plain": [
       "array([  0.,   0., 104.,   0.,   0.,   0., 104.,   0.])"
      ]
     },
     "execution_count": 9,
     "metadata": {},
     "output_type": "execute_result"
    }
   ],
   "source": [
    "np.sum(out_dict['REC_2020_10_12_03_08_38_F.MP4']['anno'], axis=0)"
   ]
  },
  {
   "cell_type": "code",
   "execution_count": 13,
   "id": "929ee3f1",
   "metadata": {},
   "outputs": [
    {
     "data": {
      "text/plain": [
       "104"
      ]
     },
     "execution_count": 13,
     "metadata": {},
     "output_type": "execute_result"
    }
   ],
   "source": [
    "out_dict['REC_2020_10_12_03_08_38_F.MP4']['feature_length']"
   ]
  },
  {
   "cell_type": "code",
   "execution_count": 30,
   "id": "73486701",
   "metadata": {},
   "outputs": [
    {
     "name": "stderr",
     "output_type": "stream",
     "text": [
      "100%|██████████| 1213/1213 [00:00<00:00, 24844.91it/s]"
     ]
    },
    {
     "name": "stdout",
     "output_type": "stream",
     "text": [
      "REC_2020_10_12_17_30_07_F.MP4\n",
      "(array([2, 6]),)\n"
     ]
    },
    {
     "name": "stderr",
     "output_type": "stream",
     "text": [
      "\n"
     ]
    }
   ],
   "source": [
    "total_frames = 0\n",
    "cat_array = np.zeros((8,))\n",
    "\n",
    "for name in tqdm(out_dict.keys()):\n",
    "    total_frames += out_dict[name]['feature_length']\n",
    "    new_cat = np.sum(out_dict[name]['anno'], axis=0)\n",
    "    if new_cat[3] > 0:\n",
    "        print(name)\n",
    "        print(np.nonzero(out_dict[name]['anno'][3,:]))\n",
    "\n",
    "    cat_array = cat_array + new_cat\n"
   ]
  },
  {
   "cell_type": "code",
   "execution_count": 26,
   "id": "96bc60ab",
   "metadata": {},
   "outputs": [
    {
     "data": {
      "text/plain": [
       "-900.0"
      ]
     },
     "execution_count": 26,
     "metadata": {},
     "output_type": "execute_result"
    }
   ],
   "source": [
    "cat_list = cat_array.tolist()\n",
    "cat_list[2] - total_frames"
   ]
  },
  {
   "cell_type": "code",
   "execution_count": 1,
   "id": "0beeb956",
   "metadata": {},
   "outputs": [
    {
     "ename": "NameError",
     "evalue": "name 'cat_list' is not defined",
     "output_type": "error",
     "traceback": [
      "\u001b[0;31m---------------------------------------------------------------------------\u001b[0m",
      "\u001b[0;31mNameError\u001b[0m                                 Traceback (most recent call last)",
      "Cell \u001b[0;32mIn[1], line 1\u001b[0m\n\u001b[0;32m----> 1\u001b[0m \u001b[43mcat_list\u001b[49m\n",
      "\u001b[0;31mNameError\u001b[0m: name 'cat_list' is not defined"
     ]
    }
   ],
   "source": [
    "cat_list"
   ]
  },
  {
   "cell_type": "code",
   "execution_count": null,
   "id": "44110555",
   "metadata": {},
   "outputs": [],
   "source": []
  }
 ],
 "metadata": {
  "interpreter": {
   "hash": "d4d1e4263499bec80672ea0156c357c1ee493ec2b1c70f0acce89fc37c4a6abe"
  },
  "kernelspec": {
   "display_name": "Python [conda env:thesis]",
   "language": "python",
   "name": "python3"
  },
  "language_info": {
   "codemirror_mode": {
    "name": "ipython",
    "version": 3
   },
   "file_extension": ".py",
   "mimetype": "text/x-python",
   "name": "python",
   "nbconvert_exporter": "python",
   "pygments_lexer": "ipython3",
   "version": "3.9.15"
  }
 },
 "nbformat": 4,
 "nbformat_minor": 5
}
