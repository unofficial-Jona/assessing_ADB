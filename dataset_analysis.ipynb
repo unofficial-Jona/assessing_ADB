{
 "cells": [
  {
   "cell_type": "code",
   "execution_count": 1,
   "id": "1ed08244-b283-40cf-a772-36f3f0466df8",
   "metadata": {},
   "outputs": [],
   "source": [
    "import pandas as pd\n",
    "import numpy as np\n",
    "import matplotlib.pyplot as plt\n",
    "import pickle\n",
    "from tqdm import tqdm\n",
    "import torch\n",
    "import torch.nn as nn\n",
    "import json\n",
    "\n",
    "from feature_extractor import FeatureExtractor"
   ]
  },
  {
   "cell_type": "markdown",
   "id": "6f39b85f",
   "metadata": {},
   "source": [
    "## get label distribution"
   ]
  },
  {
   "cell_type": "code",
   "execution_count": 3,
   "id": "929ee3f1",
   "metadata": {},
   "outputs": [
    {
     "data": {
      "text/plain": [
       "True"
      ]
     },
     "execution_count": 3,
     "metadata": {},
     "output_type": "execute_result"
    }
   ],
   "source": [
    "anno_dict = pickle.load(open('/workspace/pvc-meteor/features/annotations.pickle', 'rb'))\n",
    "anno_dict['REC_2020_10_12_03_08_38_F.MP4']['feature_length'] == anno_dict['REC_2020_10_12_03_08_38_F.MP4']['anno'].shape[0]"
   ]
  },
  {
   "cell_type": "code",
   "execution_count": 4,
   "id": "73486701",
   "metadata": {},
   "outputs": [
    {
     "name": "stderr",
     "output_type": "stream",
     "text": [
      "100%|██████████| 1213/1213 [00:00<00:00, 15346.84it/s]\n"
     ]
    }
   ],
   "source": [
    "total_frames = 0\n",
    "cat_array = np.zeros((7,))\n",
    "unannoted_frames = 0\n",
    "\n",
    "for name in tqdm(anno_dict.keys()):\n",
    "    total_frames += anno_dict[name]['feature_length']\n",
    "    annotation = anno_dict[name]['anno']\n",
    "    new_cat = np.sum(annotation, axis=0)\n",
    "    unannoted_frames += anno_dict[name]['feature_length'] - np.any(annotation, axis=1).sum()\n",
    "\n",
    "    cat_array = cat_array + new_cat\n"
   ]
  },
  {
   "cell_type": "code",
   "execution_count": 5,
   "id": "96bc60ab",
   "metadata": {},
   "outputs": [
    {
     "data": {
      "text/plain": [
       "-895175.0"
      ]
     },
     "execution_count": 5,
     "metadata": {},
     "output_type": "execute_result"
    }
   ],
   "source": [
    "cat_list = cat_array.tolist()\n",
    "cat_list[2] - total_frames"
   ]
  },
  {
   "cell_type": "code",
   "execution_count": 6,
   "id": "0beeb956",
   "metadata": {},
   "outputs": [
    {
     "data": {
      "text/plain": [
       "([281774.0, 342.0, 90571.0, 518.0, 36512.0, 213.0, 9482.0], 985746, 622239)"
      ]
     },
     "execution_count": 6,
     "metadata": {},
     "output_type": "execute_result"
    }
   ],
   "source": [
    "cat_names = ['Over Taking', 'Over Speedign', 'Lane Change', 'Traffic Light', 'Wrong Lane', 'Wrong Turn', 'Cutting']\n",
    "\n",
    "cat_list, total_frames, unannoted_frames"
   ]
  },
  {
   "cell_type": "markdown",
   "id": "fb72d116",
   "metadata": {},
   "source": [
    "### generate `pos_weight` for `torch.nn.BCEWithLogitsLoss`"
   ]
  },
  {
   "cell_type": "code",
   "execution_count": 7,
   "id": "ebadce4c",
   "metadata": {},
   "outputs": [
    {
     "data": {
      "text/html": [
       "<div>\n",
       "<style scoped>\n",
       "    .dataframe tbody tr th:only-of-type {\n",
       "        vertical-align: middle;\n",
       "    }\n",
       "\n",
       "    .dataframe tbody tr th {\n",
       "        vertical-align: top;\n",
       "    }\n",
       "\n",
       "    .dataframe thead th {\n",
       "        text-align: right;\n",
       "    }\n",
       "</style>\n",
       "<table border=\"1\" class=\"dataframe\">\n",
       "  <thead>\n",
       "    <tr style=\"text-align: right;\">\n",
       "      <th></th>\n",
       "      <th>frames_per_cat</th>\n",
       "      <th>frames_not_cat</th>\n",
       "      <th>weight</th>\n",
       "    </tr>\n",
       "  </thead>\n",
       "  <tbody>\n",
       "    <tr>\n",
       "      <th>Over Taking</th>\n",
       "      <td>281774.0</td>\n",
       "      <td>703972.0</td>\n",
       "      <td>1.0</td>\n",
       "    </tr>\n",
       "    <tr>\n",
       "      <th>Over Speedign</th>\n",
       "      <td>342.0</td>\n",
       "      <td>985404.0</td>\n",
       "      <td>1.0</td>\n",
       "    </tr>\n",
       "    <tr>\n",
       "      <th>Lane Change</th>\n",
       "      <td>90571.0</td>\n",
       "      <td>895175.0</td>\n",
       "      <td>1.0</td>\n",
       "    </tr>\n",
       "    <tr>\n",
       "      <th>Traffic Light</th>\n",
       "      <td>518.0</td>\n",
       "      <td>985228.0</td>\n",
       "      <td>1.0</td>\n",
       "    </tr>\n",
       "    <tr>\n",
       "      <th>Wrong Lane</th>\n",
       "      <td>36512.0</td>\n",
       "      <td>949234.0</td>\n",
       "      <td>1.0</td>\n",
       "    </tr>\n",
       "    <tr>\n",
       "      <th>Wrong Turn</th>\n",
       "      <td>213.0</td>\n",
       "      <td>985533.0</td>\n",
       "      <td>1.0</td>\n",
       "    </tr>\n",
       "    <tr>\n",
       "      <th>Cutting</th>\n",
       "      <td>9482.0</td>\n",
       "      <td>976264.0</td>\n",
       "      <td>1.0</td>\n",
       "    </tr>\n",
       "  </tbody>\n",
       "</table>\n",
       "</div>"
      ],
      "text/plain": [
       "               frames_per_cat  frames_not_cat  weight\n",
       "Over Taking          281774.0        703972.0     1.0\n",
       "Over Speedign           342.0        985404.0     1.0\n",
       "Lane Change           90571.0        895175.0     1.0\n",
       "Traffic Light           518.0        985228.0     1.0\n",
       "Wrong Lane            36512.0        949234.0     1.0\n",
       "Wrong Turn              213.0        985533.0     1.0\n",
       "Cutting                9482.0        976264.0     1.0"
      ]
     },
     "execution_count": 7,
     "metadata": {},
     "output_type": "execute_result"
    }
   ],
   "source": [
    "df = pd.DataFrame(\n",
    "    data=cat_list,\n",
    "    columns=['frames_per_cat'],\n",
    "    index=cat_names\n",
    "    )\n",
    "df = (df\n",
    "    .assign(frames_not_cat = total_frames - df.iloc[:,0])\n",
    "    .assign(weight = df.iloc[:, -1] / df.iloc[:, 0])\n",
    "    )\n",
    "df"
   ]
  },
  {
   "cell_type": "code",
   "execution_count": 8,
   "id": "bfddb4d6",
   "metadata": {},
   "outputs": [
    {
     "data": {
      "text/plain": [
       "tensor([1., 1., 1., 1., 1., 1., 1.], dtype=torch.float64)"
      ]
     },
     "execution_count": 8,
     "metadata": {},
     "output_type": "execute_result"
    }
   ],
   "source": [
    "torch.tensor(df.weight.values)"
   ]
  },
  {
   "cell_type": "markdown",
   "id": "4f547f1e",
   "metadata": {},
   "source": [
    "## visualize class distribution"
   ]
  },
  {
   "cell_type": "code",
   "execution_count": 28,
   "id": "69081d10-a3c9-49d2-b0e3-e216fb22c0b7",
   "metadata": {},
   "outputs": [
    {
     "data": {
      "text/plain": [
       "Text(0.5, 1.0, 'Distribution of frames per category, Logscaled')"
      ]
     },
     "execution_count": 28,
     "metadata": {},
     "output_type": "execute_result"
    },
    {
     "data": {
      "image/png": "[encoded data removed]",
      "text/plain": [
       "<Figure size 640x480 with 1 Axes>"
      ]
     },
     "metadata": {},
     "output_type": "display_data"
    }
   ],
   "source": [
    "fig = plt.figure()\n",
    "\n",
    "ax = fig.add_subplot(1,1,1)\n",
    "ax.set_yscale('log')\n",
    "cat_names = ['Over Taking', 'Over Speeding', 'Lane Change', 'Traffic Light', 'Wrong Lane', 'Wrong Turn', 'Cutting']\n",
    "\n",
    "\n",
    "ax.bar(cat_names, cat_list)\n",
    "\n",
    "# Add annotations to each bar\n",
    "for bar in ax.patches:\n",
    "    height = bar.get_height()\n",
    "    ax.text(bar.get_x() + bar.get_width()/2, height, \n",
    "            str(int(height)),\n",
    "            ha='center', va='bottom', rotation=0, color='black', fontsize=8)\n",
    "\n",
    "plt.xticks(rotation = 45)\n",
    "plt.title('Distribution of frames per category, Logscaled')"
   ]
  },
  {
   "cell_type": "markdown",
   "id": "245cd7ab",
   "metadata": {},
   "source": [
    "### analyse test and train set seperately."
   ]
  },
  {
   "cell_type": "code",
   "execution_count": 34,
   "id": "3962b524",
   "metadata": {},
   "outputs": [],
   "source": [
    "json_file = json.load(open('../../pvc-meteor/features/METEOR_info.json', 'r'))['METEOR']"
   ]
  },
  {
   "cell_type": "code",
   "execution_count": 35,
   "id": "f562cfbc",
   "metadata": {},
   "outputs": [],
   "source": [
    "train_vid_names = json_file['train_session_set']\n",
    "test_vid_names = json_file['test_session_set']\n",
    "\n",
    "test_class_counts = np.zeros((7))\n",
    "for vid_name in test_vid_names:\n",
    "    curr_anno = anno_dict[vid_name]['anno']\n",
    "\n",
    "    test_class_counts = test_class_counts + np.sum(curr_anno, axis=0)\n",
    "    \n",
    "train_class_counts = np.zeros((7))\n",
    "for vid_name in train_vid_names:\n",
    "    curr_anno = anno_dict[vid_name]['anno']\n",
    "\n",
    "    train_class_counts = train_class_counts + np.sum(curr_anno, axis=0) "
   ]
  },
  {
   "cell_type": "code",
   "execution_count": 36,
   "id": "9860f512",
   "metadata": {},
   "outputs": [
    {
     "data": {
      "text/html": [
       "<div>\n",
       "<style scoped>\n",
       "    .dataframe tbody tr th:only-of-type {\n",
       "        vertical-align: middle;\n",
       "    }\n",
       "\n",
       "    .dataframe tbody tr th {\n",
       "        vertical-align: top;\n",
       "    }\n",
       "\n",
       "    .dataframe thead th {\n",
       "        text-align: right;\n",
       "    }\n",
       "</style>\n",
       "<table border=\"1\" class=\"dataframe\">\n",
       "  <thead>\n",
       "    <tr style=\"text-align: right;\">\n",
       "      <th></th>\n",
       "      <th>test</th>\n",
       "      <th>train</th>\n",
       "    </tr>\n",
       "  </thead>\n",
       "  <tbody>\n",
       "    <tr>\n",
       "      <th>OverTaking</th>\n",
       "      <td>57700.0</td>\n",
       "      <td>224074.0</td>\n",
       "    </tr>\n",
       "    <tr>\n",
       "      <th>Overspeeding</th>\n",
       "      <td>0.0</td>\n",
       "      <td>342.0</td>\n",
       "    </tr>\n",
       "    <tr>\n",
       "      <th>LaneChange</th>\n",
       "      <td>17235.0</td>\n",
       "      <td>73336.0</td>\n",
       "    </tr>\n",
       "    <tr>\n",
       "      <th>TrafficLight</th>\n",
       "      <td>0.0</td>\n",
       "      <td>518.0</td>\n",
       "    </tr>\n",
       "    <tr>\n",
       "      <th>WrongLane</th>\n",
       "      <td>6373.0</td>\n",
       "      <td>30139.0</td>\n",
       "    </tr>\n",
       "    <tr>\n",
       "      <th>WrongTurn</th>\n",
       "      <td>36.0</td>\n",
       "      <td>177.0</td>\n",
       "    </tr>\n",
       "    <tr>\n",
       "      <th>Cutting</th>\n",
       "      <td>1998.0</td>\n",
       "      <td>7484.0</td>\n",
       "    </tr>\n",
       "  </tbody>\n",
       "</table>\n",
       "</div>"
      ],
      "text/plain": [
       "                 test     train\n",
       "OverTaking    57700.0  224074.0\n",
       "Overspeeding      0.0     342.0\n",
       "LaneChange    17235.0   73336.0\n",
       "TrafficLight      0.0     518.0\n",
       "WrongLane      6373.0   30139.0\n",
       "WrongTurn        36.0     177.0\n",
       "Cutting        1998.0    7484.0"
      ]
     },
     "execution_count": 36,
     "metadata": {},
     "output_type": "execute_result"
    },
    {
     "data": {
      "image/png": "[encoded data removed]",
      "text/plain": [
       "<Figure size 640x480 with 1 Axes>"
      ]
     },
     "metadata": {},
     "output_type": "display_data"
    }
   ],
   "source": [
    "df = pd.DataFrame(\n",
    "    data=np.column_stack((test_class_counts, train_class_counts)),\n",
    "    columns=['test_f', 'train_f'],\n",
    "    index = json_file['class_index']\n",
    ")\n",
    "\n",
    "ax = df.plot(kind='bar', stacked=False)\n",
    "ax.set_yscale('log')\n",
    "\n",
    "df"
   ]
  },
  {
   "cell_type": "markdown",
   "id": "e60a742e",
   "metadata": {},
   "source": [
    "### find split so that all classes are part of both sets.\n",
    "\n",
    "- count frames per class per video\n",
    "- select videos so that 20% of each class are part of test set. Rest is train."
   ]
  },
  {
   "cell_type": "code",
   "execution_count": 37,
   "id": "8e2acd2c",
   "metadata": {},
   "outputs": [],
   "source": [
    "def more_perfect_split(data, test_split = 0.2):\n",
    "    out_df = pd.DataFrame(data=None, columns=['Over Taking', 'Over Speeding', 'Lane Change', 'Traffic Light', 'Wrong Lane', 'Wrong Turn', 'Cutting'])\n",
    "\n",
    "    for vid_name in data.keys():\n",
    "        vid_anno_ = data[vid_name]['anno']\n",
    "        vid_anno_ = np.sum(vid_anno_, axis=0)\n",
    "        out_df.loc[vid_name,:] = vid_anno_\n",
    "    sums = out_df.sum(axis=0)\n",
    "    train_shares = np.zeros((7))\n",
    "\n",
    "\n",
    "    return out_df\n",
    "\n",
    "\n",
    "df = more_perfect_split(anno_dict)"
   ]
  },
  {
   "cell_type": "code",
   "execution_count": 38,
   "id": "f50c0da7",
   "metadata": {},
   "outputs": [
    {
     "data": {
      "text/plain": [
       "REC_2021_01_04_04_18_39_F.MP4     0.05848\n",
       "REC_2020_10_29_02_22_46_F.MP4     0.01462\n",
       "REC_2021_01_28_17_25_59_F.MP4    0.116959\n",
       "REC_2020_10_10_05_46_07_F.MP4     0.04386\n",
       "REC_2020_10_29_04_45_55_F.MP4    0.304094\n",
       "REC_2020_10_29_02_19_46_F.MP4    0.111111\n",
       "REC_2021_01_04_02_56_46_F.MP4    0.002924\n",
       "REC_2020_10_29_03_03_12_F.MP4     0.21345\n",
       "REC_2021_01_04_02_46_23_F.MP4    0.005848\n",
       "REC_2020_10_11_04_49_02_F.MP4     0.01462\n",
       "REC_2021_01_31_00_11_04_F.MP4    0.099415\n",
       "REC_2020_10_10_06_02_07_F.MP4     0.01462\n",
       "Name: Over Speeding, dtype: object"
      ]
     },
     "execution_count": 38,
     "metadata": {},
     "output_type": "execute_result"
    }
   ],
   "source": [
    "df = df / df.sum(axis=0)\n",
    "df.loc[df.loc[:,'Over Speeding'] > 0, 'Over Speeding']"
   ]
  },
  {
   "cell_type": "code",
   "execution_count": 52,
   "id": "4bb229ed",
   "metadata": {},
   "outputs": [
    {
     "name": "stdout",
     "output_type": "stream",
     "text": [
      "REC_2020_09_09_19_02_12_F.MP4\n",
      "REC_2020_10_29_04_34_55_F.MP4\n"
     ]
    }
   ],
   "source": [
    "for i in df.loc[df.loc[:, 'Wrong Turn'] > 0, 'Wrong Turn'].index:\n",
    "    if i in json_file['test_session_set']:\n",
    "        print(i)"
   ]
  },
  {
   "cell_type": "code",
   "execution_count": null,
   "id": "00609bd2",
   "metadata": {},
   "outputs": [],
   "source": []
  }
 ],
 "metadata": {
  "interpreter": {
   "hash": "21e8d3179073958173d6cf46a62335ced4bd9060b16a08c7dd2ce09d931d915c"
  },
  "kernelspec": {
   "display_name": "Python 3 (ipykernel)",
   "language": "python",
   "name": "python3"
  },
  "language_info": {
   "codemirror_mode": {
    "name": "ipython",
    "version": 3
   },
   "file_extension": ".py",
   "mimetype": "text/x-python",
   "name": "python",
   "nbconvert_exporter": "python",
   "pygments_lexer": "ipython3",
   "version": "3.9.15"
  }
 },
 "nbformat": 4,
 "nbformat_minor": 5
}
