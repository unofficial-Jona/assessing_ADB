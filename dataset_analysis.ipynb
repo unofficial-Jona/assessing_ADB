{
 "cells": [
  {
   "cell_type": "code",
   "execution_count": 2,
   "id": "1ed08244-b283-40cf-a772-36f3f0466df8",
   "metadata": {},
   "outputs": [],
   "source": [
    "import pandas as pd\n",
    "import numpy as np\n",
    "import matplotlib.pyplot as plt\n",
    "import pickle\n",
    "from tqdm import tqdm\n",
    "import \n",
    "\n",
    "from feature_extractor import FeatureExtractor"
   ]
  },
  {
   "cell_type": "markdown",
   "id": "6f39b85f",
   "metadata": {},
   "source": [
    "## get label distribution"
   ]
  },
  {
   "cell_type": "code",
   "execution_count": 6,
   "id": "929ee3f1",
   "metadata": {},
   "outputs": [
    {
     "data": {
      "text/plain": [
       "104"
      ]
     },
     "execution_count": 6,
     "metadata": {},
     "output_type": "execute_result"
    }
   ],
   "source": [
    "out_dict = pickle.load(open('/workspace/pvc-meteor/features/annotations.pickle', 'rb'))\n",
    "out_dict['REC_2020_10_12_03_08_38_F.MP4']['feature_length']"
   ]
  },
  {
   "cell_type": "code",
   "execution_count": 7,
   "id": "73486701",
   "metadata": {},
   "outputs": [
    {
     "name": "stderr",
     "output_type": "stream",
     "text": [
      "100%|██████████| 1213/1213 [00:00<00:00, 11239.49it/s]\n"
     ]
    }
   ],
   "source": [
    "total_frames = 0\n",
    "cat_array = np.zeros((7,))\n",
    "unannoted_frames = 0\n",
    "\n",
    "for name in tqdm(out_dict.keys()):\n",
    "    total_frames += out_dict[name]['feature_length']\n",
    "    annotation = out_dict[name]['anno']\n",
    "    new_cat = np.sum(annotation, axis=0)\n",
    "    unannoted_frames += out_dict[name]['feature_length'] - np.any(annotation, axis=1).sum()\n",
    "\n",
    "    cat_array = cat_array + new_cat\n"
   ]
  },
  {
   "cell_type": "code",
   "execution_count": 8,
   "id": "96bc60ab",
   "metadata": {},
   "outputs": [
    {
     "data": {
      "text/plain": [
       "-895175.0"
      ]
     },
     "execution_count": 8,
     "metadata": {},
     "output_type": "execute_result"
    }
   ],
   "source": [
    "cat_list = cat_array.tolist()\n",
    "cat_list[2] - total_frames"
   ]
  },
  {
   "cell_type": "code",
   "execution_count": 11,
   "id": "0beeb956",
   "metadata": {},
   "outputs": [
    {
     "data": {
      "text/plain": [
       "([281774.0, 342.0, 90571.0, 518.0, 36512.0, 213.0, 9482.0], 985746, 622239)"
      ]
     },
     "execution_count": 11,
     "metadata": {},
     "output_type": "execute_result"
    }
   ],
   "source": [
    "cat_names = ['Over Taking', 'Over Speedign', 'Lane Change', 'Traffic Light', 'Wrong Lane', 'Wrong Turn', 'Cutting']\n",
    "\n",
    "cat_list, total_frames, unannoted_frames"
   ]
  },
  {
   "cell_type": "markdown",
   "id": "fb72d116",
   "metadata": {},
   "source": [
    "### generate `pos_weight` for `torch.nn.BCEWithLogitsLoss`"
   ]
  },
  {
   "cell_type": "code",
   "execution_count": 31,
   "id": "58d5dc0c",
   "metadata": {},
   "outputs": [
    {
     "name": "stdout",
     "output_type": "stream",
     "text": [
      "2.4983568391689794\n",
      "2881.2982456140353\n",
      "9.883682414901017\n",
      "1901.984555984556\n",
      "25.997863716038562\n",
      "4626.915492957746\n",
      "102.95971314068761\n",
      "\n"
     ]
    }
   ],
   "source": []
  },
  {
   "cell_type": "code",
   "execution_count": 41,
   "id": "ebadce4c",
   "metadata": {},
   "outputs": [
    {
     "data": {
      "text/html": [
       "<div>\n",
       "<style scoped>\n",
       "    .dataframe tbody tr th:only-of-type {\n",
       "        vertical-align: middle;\n",
       "    }\n",
       "\n",
       "    .dataframe tbody tr th {\n",
       "        vertical-align: top;\n",
       "    }\n",
       "\n",
       "    .dataframe thead th {\n",
       "        text-align: right;\n",
       "    }\n",
       "</style>\n",
       "<table border=\"1\" class=\"dataframe\">\n",
       "  <thead>\n",
       "    <tr style=\"text-align: right;\">\n",
       "      <th></th>\n",
       "      <th>frames_per_cat</th>\n",
       "      <th>frames_not_cat</th>\n",
       "      <th>weight</th>\n",
       "    </tr>\n",
       "  </thead>\n",
       "  <tbody>\n",
       "    <tr>\n",
       "      <th>Over Taking</th>\n",
       "      <td>281774.0</td>\n",
       "      <td>703972.0</td>\n",
       "      <td>2.498357</td>\n",
       "    </tr>\n",
       "    <tr>\n",
       "      <th>Over Speedign</th>\n",
       "      <td>342.0</td>\n",
       "      <td>985404.0</td>\n",
       "      <td>2881.298246</td>\n",
       "    </tr>\n",
       "    <tr>\n",
       "      <th>Lane Change</th>\n",
       "      <td>90571.0</td>\n",
       "      <td>895175.0</td>\n",
       "      <td>9.883682</td>\n",
       "    </tr>\n",
       "    <tr>\n",
       "      <th>Traffic Light</th>\n",
       "      <td>518.0</td>\n",
       "      <td>985228.0</td>\n",
       "      <td>1901.984556</td>\n",
       "    </tr>\n",
       "    <tr>\n",
       "      <th>Wrong Lane</th>\n",
       "      <td>36512.0</td>\n",
       "      <td>949234.0</td>\n",
       "      <td>25.997864</td>\n",
       "    </tr>\n",
       "    <tr>\n",
       "      <th>Wrong Turn</th>\n",
       "      <td>213.0</td>\n",
       "      <td>985533.0</td>\n",
       "      <td>4626.915493</td>\n",
       "    </tr>\n",
       "    <tr>\n",
       "      <th>Cutting</th>\n",
       "      <td>9482.0</td>\n",
       "      <td>976264.0</td>\n",
       "      <td>102.959713</td>\n",
       "    </tr>\n",
       "  </tbody>\n",
       "</table>\n",
       "</div>"
      ],
      "text/plain": [
       "               frames_per_cat  frames_not_cat       weight\n",
       "Over Taking          281774.0        703972.0     2.498357\n",
       "Over Speedign           342.0        985404.0  2881.298246\n",
       "Lane Change           90571.0        895175.0     9.883682\n",
       "Traffic Light           518.0        985228.0  1901.984556\n",
       "Wrong Lane            36512.0        949234.0    25.997864\n",
       "Wrong Turn              213.0        985533.0  4626.915493\n",
       "Cutting                9482.0        976264.0   102.959713"
      ]
     },
     "execution_count": 41,
     "metadata": {},
     "output_type": "execute_result"
    }
   ],
   "source": [
    "df = (\n",
    "    pd.DataFrame(\n",
    "    data=cat_list,\n",
    "    columns=['frames_per_cat'],\n",
    "    index=cat_names\n",
    "    )\n",
    "    .assign(frames_not_cat = total_frames - df.iloc[:,0])\n",
    "    .assign(weight = df.loc[:, 'frames_not_cat'] / df.iloc[:, 0])\n",
    "    )\n",
    "df"
   ]
  },
  {
   "cell_type": "code",
   "execution_count": 60,
   "id": "bfddb4d6",
   "metadata": {},
   "outputs": [
    {
     "data": {
      "text/plain": [
       "tensor([2.4984e+00, 2.8813e+03, 9.8837e+00, 1.9020e+03, 2.5998e+01, 4.6269e+03,\n",
       "        1.0296e+02], dtype=torch.float64)"
      ]
     },
     "execution_count": 60,
     "metadata": {},
     "output_type": "execute_result"
    }
   ],
   "source": [
    "torch.tensor(df.weight.values)"
   ]
  },
  {
   "cell_type": "code",
   "execution_count": 59,
   "id": "264e949f",
   "metadata": {},
   "outputs": [
    {
     "data": {
      "text/plain": [
       "tensor([5.0000e+00, 2.3234e+04, 2.4000e+01, 2.3400e+02])"
      ]
     },
     "execution_count": 59,
     "metadata": {},
     "output_type": "execute_result"
    }
   ],
   "source": [
    "\n",
    "import torch\n",
    "\n",
    "values = [float(i) for i in '5 23234 24 234'.split(' ')]\n",
    "torch.tensor([float(i) for i in '5 23234 24 234'.split(' ')])"
   ]
  },
  {
   "cell_type": "code",
   "execution_count": 21,
   "id": "69081d10-a3c9-49d2-b0e3-e216fb22c0b7",
   "metadata": {},
   "outputs": [
    {
     "data": {
      "text/plain": [
       "Text(0.5, 1.0, 'Distribution of frames per category')"
      ]
     },
     "execution_count": 21,
     "metadata": {},
     "output_type": "execute_result"
    },
    {
     "data": {
      "image/png": "[encoded data removed]",
      "text/plain": [
       "<Figure size 640x480 with 1 Axes>"
      ]
     },
     "metadata": {},
     "output_type": "display_data"
    }
   ],
   "source": [
    "fig = plt.figure()\n",
    "\n",
    "ax = fig.add_subplot(1,1,1)\n",
    "ax.set_yscale('log')\n",
    "cat_names = ['Over Taking', 'Over Speeding', 'Lane Change', 'Traffic Light', 'Wrong Lane', 'Wrong Turn', 'Cutting']\n",
    "\n",
    "\n",
    "ax.bar(cat_names, cat_list)\n",
    "plt.xticks(rotation = 45)\n",
    "plt.title('Distribution of frames per category, Logscaled')"
   ]
  },
  {
   "cell_type": "code",
   "execution_count": 5,
   "id": "9dac9849",
   "metadata": {},
   "outputs": [
    {
     "data": {
      "text/plain": [
       "tensor(0.6931)"
      ]
     },
     "execution_count": 5,
     "metadata": {},
     "output_type": "execute_result"
    }
   ],
   "source": [
    "import torch\n",
    "import torch.nn as nn\n",
    "\n",
    "loss_fn = nn.BCEWithLogitsLoss()\n",
    "input = torch.zeros((1,7))\n",
    "target = torch.ones((1,7))\n",
    "\n",
    "loss_fn(input, target)"
   ]
  },
  {
   "cell_type": "code",
   "execution_count": 7,
   "id": "e114529f",
   "metadata": {},
   "outputs": [
    {
     "data": {
      "text/plain": [
       "array([0., 0., 0.])"
      ]
     },
     "execution_count": 7,
     "metadata": {},
     "output_type": "execute_result"
    }
   ],
   "source": [
    "import numpy as np\n",
    "np.zeros(3)"
   ]
  },
  {
   "cell_type": "code",
   "execution_count": null,
   "id": "3962b524",
   "metadata": {},
   "outputs": [],
   "source": []
  }
 ],
 "metadata": {
  "interpreter": {
   "hash": "21e8d3179073958173d6cf46a62335ced4bd9060b16a08c7dd2ce09d931d915c"
  },
  "kernelspec": {
   "display_name": "Python 3 (ipykernel)",
   "language": "python",
   "name": "python3"
  },
  "language_info": {
   "codemirror_mode": {
    "name": "ipython",
    "version": 3
   },
   "file_extension": ".py",
   "mimetype": "text/x-python",
   "name": "python",
   "nbconvert_exporter": "python",
   "pygments_lexer": "ipython3",
   "version": "3.9.15"
  }
 },
 "nbformat": 4,
 "nbformat_minor": 5
}
