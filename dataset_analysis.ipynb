{
 "cells": [
  {
   "cell_type": "code",
   "execution_count": 1,
   "id": "1ed08244-b283-40cf-a772-36f3f0466df8",
   "metadata": {},
   "outputs": [],
   "source": [
    "import pandas as pd\n",
    "import numpy as np\n",
    "import matplotlib.pyplot as plt\n",
    "import pickle\n",
    "from tqdm import tqdm\n",
    "\n",
    "from feature_extractor import FeatureExtractor"
   ]
  },
  {
   "cell_type": "code",
   "execution_count": 2,
   "id": "dbcfdfa8-0c38-4290-83b6-fe6c0640d712",
   "metadata": {},
   "outputs": [],
   "source": [
    "# load old feature_extraction file:\n",
    "anno_features = pickle.load(open('../../pvc-meteor/features/extracted_features_06-01-2023-18-39.pkl', 'rb'))"
   ]
  },
  {
   "cell_type": "code",
   "execution_count": 3,
   "id": "77edc8a9",
   "metadata": {},
   "outputs": [
    {
     "name": "stderr",
     "output_type": "stream",
     "text": [
      " 34%|███▍      | 415/1213 [13:18<25:34,  1.92s/it]"
     ]
    }
   ],
   "source": [
    "extractor = FeatureExtractor(15)\n",
    "out_dict = dict()\n",
    "\n",
    "for name in tqdm(anno_features['annotations'].keys(), smoothing=0):\n",
    "    anno_dict = extractor.annotation_processor(name)\n",
    "    out_dict.update({name: anno_dict})\n",
    "\n",
    "with open('../../pvc-meteor/features/annotations.pickle', 'wb') as file:\n",
    "    pickle.dump(out_dict, file)"
   ]
  },
  {
   "cell_type": "markdown",
   "id": "6f39b85f",
   "metadata": {},
   "source": [
    "## get label distribution"
   ]
  },
  {
   "cell_type": "code",
   "execution_count": null,
   "id": "929ee3f1",
   "metadata": {},
   "outputs": [
    {
     "data": {
      "text/plain": [
       "104"
      ]
     },
     "execution_count": 5,
     "metadata": {},
     "output_type": "execute_result"
    }
   ],
   "source": [
    "out_dict['REC_2020_10_12_03_08_38_F.MP4']['feature_length']"
   ]
  },
  {
   "cell_type": "code",
   "execution_count": null,
   "id": "73486701",
   "metadata": {},
   "outputs": [
    {
     "name": "stderr",
     "output_type": "stream",
     "text": [
      "100%|██████████| 1213/1213 [00:00<00:00, 12550.27it/s]\n"
     ]
    }
   ],
   "source": [
    "total_frames = 0\n",
    "cat_array = np.zeros((7,))\n",
    "unannoted_frames = 0\n",
    "\n",
    "for name in tqdm(out_dict.keys()):\n",
    "    total_frames += out_dict[name]['feature_length']\n",
    "    annotation = out_dict[name]['anno']\n",
    "    new_cat = np.sum(annotation, axis=0)\n",
    "    unannoted_frames += out_dict[name]['feature_length'] - np.any(annotation, axis=1).sum()\n",
    "\n",
    "    cat_array = cat_array + new_cat\n"
   ]
  },
  {
   "cell_type": "code",
   "execution_count": null,
   "id": "96bc60ab",
   "metadata": {},
   "outputs": [
    {
     "data": {
      "text/plain": [
       "-985746.0"
      ]
     },
     "execution_count": 7,
     "metadata": {},
     "output_type": "execute_result"
    }
   ],
   "source": [
    "cat_list = cat_array.tolist()\n",
    "cat_list[2] - total_frames"
   ]
  },
  {
   "cell_type": "code",
   "execution_count": null,
   "id": "0beeb956",
   "metadata": {},
   "outputs": [
    {
     "data": {
      "text/plain": [
       "([0.0, 0.0, 0.0, 0.0, 0.0, 0.0, 0.0], 985746, 0)"
      ]
     },
     "execution_count": 8,
     "metadata": {},
     "output_type": "execute_result"
    }
   ],
   "source": [
    "cat_list, total_frames, unannoted_frames"
   ]
  },
  {
   "cell_type": "code",
   "execution_count": null,
   "id": "69081d10-a3c9-49d2-b0e3-e216fb22c0b7",
   "metadata": {},
   "outputs": [],
   "source": []
  }
 ],
 "metadata": {
  "interpreter": {
   "hash": "21e8d3179073958173d6cf46a62335ced4bd9060b16a08c7dd2ce09d931d915c"
  },
  "kernelspec": {
   "display_name": "Python [conda env:thesis]",
   "language": "python",
   "name": "python3"
  },
  "language_info": {
   "codemirror_mode": {
    "name": "ipython",
    "version": 3
   },
   "file_extension": ".py",
   "mimetype": "text/x-python",
   "name": "python",
   "nbconvert_exporter": "python",
   "pygments_lexer": "ipython3",
   "version": "3.9.15"
  }
 },
 "nbformat": 4,
 "nbformat_minor": 5
}
